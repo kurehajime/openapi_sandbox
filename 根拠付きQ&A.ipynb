{
  "nbformat": 4,
  "nbformat_minor": 0,
  "metadata": {
    "colab": {
      "provenance": [],
      "authorship_tag": "ABX9TyNbMqhIX7wk+/eQscLn3JGM",
      "include_colab_link": true
    },
    "kernelspec": {
      "name": "python3",
      "display_name": "Python 3"
    },
    "language_info": {
      "name": "python"
    },
    "accelerator": "GPU",
    "gpuClass": "standard"
  },
  "cells": [
    {
      "cell_type": "markdown",
      "metadata": {
        "id": "view-in-github",
        "colab_type": "text"
      },
      "source": [
        "<a href=\"https://colab.research.google.com/github/kurehajime/openapi_sandbox/blob/main/%E6%A0%B9%E6%8B%A0%E4%BB%98%E3%81%8DQ%26A.ipynb\" target=\"_parent\"><img src=\"https://colab.research.google.com/assets/colab-badge.svg\" alt=\"Open In Colab\"/></a>"
      ]
    },
    {
      "cell_type": "markdown",
      "source": [
        "根拠付きQ&A\n",
        "---\n",
        "このノートブックはGPU環境でのみ実行できます。\n",
        "次のブロックでOpen AIのAPIキーを入力してください。"
      ],
      "metadata": {
        "id": "yHuVxR-209be"
      }
    },
    {
      "cell_type": "code",
      "execution_count": 1,
      "metadata": {
        "colab": {
          "base_uri": "https://localhost:8080/"
        },
        "id": "zD25YVrFub_n",
        "outputId": "91bbf246-2d19-4fb9-bd30-d1035e1f6e0e"
      },
      "outputs": [
        {
          "name": "stdout",
          "output_type": "stream",
          "text": [
            "Enter the secret value: ··········\n"
          ]
        }
      ],
      "source": [
        "from getpass import getpass\n",
        "secret = getpass('Enter the secret value: ')  # APIキーの取得"
      ]
    },
    {
      "cell_type": "code",
      "source": [
        "!pip install openai \n",
        "!pip install faiss-gpu -U"
      ],
      "metadata": {
        "colab": {
          "base_uri": "https://localhost:8080/"
        },
        "id": "ZBGa_5RJunFe",
        "outputId": "14e6febc-75fd-4891-bbbd-37cdf6d576cb"
      },
      "execution_count": 2,
      "outputs": [
        {
          "output_type": "stream",
          "name": "stdout",
          "text": [
            "Looking in indexes: https://pypi.org/simple, https://us-python.pkg.dev/colab-wheels/public/simple/\n",
            "Collecting openai\n",
            "  Downloading openai-0.26.5.tar.gz (55 kB)\n",
            "\u001b[2K     \u001b[90m━━━━━━━━━━━━━━━━━━━━━━━━━━━━━━━━━━━━━━━━\u001b[0m \u001b[32m55.5/55.5 KB\u001b[0m \u001b[31m5.1 MB/s\u001b[0m eta \u001b[36m0:00:00\u001b[0m\n",
            "\u001b[?25h  Installing build dependencies ... \u001b[?25l\u001b[?25hdone\n",
            "  Getting requirements to build wheel ... \u001b[?25l\u001b[?25hdone\n",
            "  Installing backend dependencies ... \u001b[?25l\u001b[?25hdone\n",
            "  Preparing metadata (pyproject.toml) ... \u001b[?25l\u001b[?25hdone\n",
            "Requirement already satisfied: tqdm in /usr/local/lib/python3.8/dist-packages (from openai) (4.64.1)\n",
            "Requirement already satisfied: requests>=2.20 in /usr/local/lib/python3.8/dist-packages (from openai) (2.25.1)\n",
            "Requirement already satisfied: aiohttp in /usr/local/lib/python3.8/dist-packages (from openai) (3.8.4)\n",
            "Requirement already satisfied: idna<3,>=2.5 in /usr/local/lib/python3.8/dist-packages (from requests>=2.20->openai) (2.10)\n",
            "Requirement already satisfied: certifi>=2017.4.17 in /usr/local/lib/python3.8/dist-packages (from requests>=2.20->openai) (2022.12.7)\n",
            "Requirement already satisfied: urllib3<1.27,>=1.21.1 in /usr/local/lib/python3.8/dist-packages (from requests>=2.20->openai) (1.24.3)\n",
            "Requirement already satisfied: chardet<5,>=3.0.2 in /usr/local/lib/python3.8/dist-packages (from requests>=2.20->openai) (4.0.0)\n",
            "Requirement already satisfied: aiosignal>=1.1.2 in /usr/local/lib/python3.8/dist-packages (from aiohttp->openai) (1.3.1)\n",
            "Requirement already satisfied: attrs>=17.3.0 in /usr/local/lib/python3.8/dist-packages (from aiohttp->openai) (22.2.0)\n",
            "Requirement already satisfied: frozenlist>=1.1.1 in /usr/local/lib/python3.8/dist-packages (from aiohttp->openai) (1.3.3)\n",
            "Requirement already satisfied: multidict<7.0,>=4.5 in /usr/local/lib/python3.8/dist-packages (from aiohttp->openai) (6.0.4)\n",
            "Requirement already satisfied: async-timeout<5.0,>=4.0.0a3 in /usr/local/lib/python3.8/dist-packages (from aiohttp->openai) (4.0.2)\n",
            "Requirement already satisfied: yarl<2.0,>=1.0 in /usr/local/lib/python3.8/dist-packages (from aiohttp->openai) (1.8.2)\n",
            "Requirement already satisfied: charset-normalizer<4.0,>=2.0 in /usr/local/lib/python3.8/dist-packages (from aiohttp->openai) (3.0.1)\n",
            "Building wheels for collected packages: openai\n",
            "  Building wheel for openai (pyproject.toml) ... \u001b[?25l\u001b[?25hdone\n",
            "  Created wheel for openai: filename=openai-0.26.5-py3-none-any.whl size=67620 sha256=1eb9a82dcc3a5eed87e32bdc3fb7bbfc62880ae645980ac1c33715aac7abef02\n",
            "  Stored in directory: /root/.cache/pip/wheels/a7/47/99/8273a59fbd59c303e8ff175416d5c1c9c03a2e83ebf7525a99\n",
            "Successfully built openai\n",
            "Installing collected packages: openai\n",
            "Successfully installed openai-0.26.5\n",
            "Looking in indexes: https://pypi.org/simple, https://us-python.pkg.dev/colab-wheels/public/simple/\n",
            "Collecting faiss-gpu\n",
            "  Downloading faiss_gpu-1.7.2-cp38-cp38-manylinux_2_17_x86_64.manylinux2014_x86_64.whl (85.5 MB)\n",
            "\u001b[2K     \u001b[90m━━━━━━━━━━━━━━━━━━━━━━━━━━━━━━━━━━━━━━━━\u001b[0m \u001b[32m85.5/85.5 MB\u001b[0m \u001b[31m11.1 MB/s\u001b[0m eta \u001b[36m0:00:00\u001b[0m\n",
            "\u001b[?25hInstalling collected packages: faiss-gpu\n",
            "Successfully installed faiss-gpu-1.7.2\n"
          ]
        }
      ]
    },
    {
      "cell_type": "code",
      "source": [
        "qa1 = \"\"\"Q. 2023年2月24日の鹿児島の天気は？\n",
        "A. 雨のち晴れです。\n",
        "\"\"\"\n",
        "qa2 = \"\"\"Q. kurehajimeはうまい棒でどの味が好きですか？\n",
        "A. 納豆味が好きです。\n",
        "\"\"\"\n",
        "qa3 = \"\"\"Q. 2023年02月9日～10日に行われた王将戦第4局ではどちらが勝ちましたか？\n",
        "A. 羽生善治九段が藤井聡太王将に勝ちました。\n",
        "\"\"\""
      ],
      "metadata": {
        "id": "UQbDIzhQvmzc"
      },
      "execution_count": 3,
      "outputs": []
    },
    {
      "cell_type": "code",
      "source": [
        "import openai\n",
        "openai.api_key = secret\n",
        "sentences = [qa1,qa2,qa3]\n",
        "sentences = [x.replace(\"\\n\", \" \") for x in sentences]\n",
        "embeddings = openai.Embedding.create(input = sentences, model=\"text-embedding-ada-002\")['data']"
      ],
      "metadata": {
        "id": "zaIfIXtZxdsE"
      },
      "execution_count": 4,
      "outputs": []
    },
    {
      "cell_type": "code",
      "source": [
        "import faiss\n",
        "import numpy as np\n",
        "d = 1536\n",
        "index = faiss.IndexFlatL2(d)\n",
        "embeddings = np.array([x[\"embedding\"] for x in embeddings], dtype=np.float32) \n",
        "index.add(embeddings) "
      ],
      "metadata": {
        "id": "lytVjlltyDLI"
      },
      "execution_count": 5,
      "outputs": []
    },
    {
      "cell_type": "code",
      "source": [
        "query = \"2023年の王将戦第4局では誰が誰に勝ちましたか？\"\n",
        "query_embedding = np.array([openai.Embedding.create(input = query , model=\"text-embedding-ada-002\")['data'][0][\"embedding\"]], dtype=np.float32)\n",
        "k = 1\n",
        "D, I = index.search(query_embedding, k)\n",
        "hint = sentences[I[0][0]]\n",
        "print(f\"hint: {hint}\")"
      ],
      "metadata": {
        "colab": {
          "base_uri": "https://localhost:8080/"
        },
        "id": "IZFh10d0z4gB",
        "outputId": "fab13499-1582-4816-8469-9474e97e4954"
      },
      "execution_count": 7,
      "outputs": [
        {
          "output_type": "stream",
          "name": "stdout",
          "text": [
            "Q. 2023年02月9日～10日に行われた王将戦第4局ではどちらが勝ちましたか？ A. 羽生善治九段が藤井聡太王将に勝ちました。 \n"
          ]
        }
      ]
    },
    {
      "cell_type": "code",
      "source": [
        "answer = openai.Completion.create(engine=\"text-davinci-003\", prompt=f\"hint:\\n {hint}\\n\\n---\\nQ: {query}\\n\", max_tokens=256)[\"choices\"][0][\"text\"]\n",
        "print(f\"Q: {query}\")\n",
        "print(answer)"
      ],
      "metadata": {
        "colab": {
          "base_uri": "https://localhost:8080/"
        },
        "id": "d8yz0IEr0NPl",
        "outputId": "1b753d7c-2c14-4b02-e5c5-573ccabba8ea"
      },
      "execution_count": 12,
      "outputs": [
        {
          "output_type": "stream",
          "name": "stdout",
          "text": [
            "Q: 2023年の王将戦第4局では誰が誰に勝ちましたか？\n",
            "A: 羽生善治九段が藤井聡太王将に勝ちました。\n"
          ]
        }
      ]
    }
  ]
}