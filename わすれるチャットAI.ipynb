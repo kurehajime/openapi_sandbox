{
  "nbformat": 4,
  "nbformat_minor": 0,
  "metadata": {
    "colab": {
      "provenance": [],
      "authorship_tag": "ABX9TyNm5PIea5NLRkNXlkV1LH+I",
      "include_colab_link": true
    },
    "kernelspec": {
      "name": "python3",
      "display_name": "Python 3"
    },
    "language_info": {
      "name": "python"
    }
  },
  "cells": [
    {
      "cell_type": "markdown",
      "metadata": {
        "id": "view-in-github",
        "colab_type": "text"
      },
      "source": [
        "<a href=\"https://colab.research.google.com/github/kurehajime/openapi_sandbox/blob/main/%E3%82%8F%E3%81%99%E3%82%8C%E3%82%8B%E3%83%81%E3%83%A3%E3%83%83%E3%83%88AI.ipynb\" target=\"_parent\"><img src=\"https://colab.research.google.com/assets/colab-badge.svg\" alt=\"Open In Colab\"/></a>"
      ]
    },
    {
      "cell_type": "code",
      "execution_count": 1,
      "metadata": {
        "colab": {
          "base_uri": "https://localhost:8080/"
        },
        "id": "Mat0eoglDdZC",
        "outputId": "d090f9e1-262d-4cd2-dbc2-483f22bea1df"
      },
      "outputs": [
        {
          "name": "stdout",
          "output_type": "stream",
          "text": [
            "Enter the secret value: ··········\n"
          ]
        }
      ],
      "source": [
        "from getpass import getpass\n",
        "secret = getpass('Enter the secret value: ')"
      ]
    },
    {
      "cell_type": "code",
      "source": [
        "!pip install openai "
      ],
      "metadata": {
        "colab": {
          "base_uri": "https://localhost:8080/"
        },
        "id": "sSNQisgKDto0",
        "outputId": "bb2c669f-f600-420a-d046-1c205c889457"
      },
      "execution_count": 2,
      "outputs": [
        {
          "output_type": "stream",
          "name": "stdout",
          "text": [
            "Looking in indexes: https://pypi.org/simple, https://us-python.pkg.dev/colab-wheels/public/simple/\n",
            "Collecting openai\n",
            "  Downloading openai-0.26.5.tar.gz (55 kB)\n",
            "\u001b[2K     \u001b[90m━━━━━━━━━━━━━━━━━━━━━━━━━━━━━━━━━━━━━━━━\u001b[0m \u001b[32m55.5/55.5 KB\u001b[0m \u001b[31m2.7 MB/s\u001b[0m eta \u001b[36m0:00:00\u001b[0m\n",
            "\u001b[?25h  Installing build dependencies ... \u001b[?25l\u001b[?25hdone\n",
            "  Getting requirements to build wheel ... \u001b[?25l\u001b[?25hdone\n",
            "  Installing backend dependencies ... \u001b[?25l\u001b[?25hdone\n",
            "  Preparing metadata (pyproject.toml) ... \u001b[?25l\u001b[?25hdone\n",
            "Requirement already satisfied: tqdm in /usr/local/lib/python3.8/dist-packages (from openai) (4.64.1)\n",
            "Requirement already satisfied: requests>=2.20 in /usr/local/lib/python3.8/dist-packages (from openai) (2.25.1)\n",
            "Requirement already satisfied: aiohttp in /usr/local/lib/python3.8/dist-packages (from openai) (3.8.4)\n",
            "Requirement already satisfied: certifi>=2017.4.17 in /usr/local/lib/python3.8/dist-packages (from requests>=2.20->openai) (2022.12.7)\n",
            "Requirement already satisfied: chardet<5,>=3.0.2 in /usr/local/lib/python3.8/dist-packages (from requests>=2.20->openai) (4.0.0)\n",
            "Requirement already satisfied: urllib3<1.27,>=1.21.1 in /usr/local/lib/python3.8/dist-packages (from requests>=2.20->openai) (1.26.14)\n",
            "Requirement already satisfied: idna<3,>=2.5 in /usr/local/lib/python3.8/dist-packages (from requests>=2.20->openai) (2.10)\n",
            "Requirement already satisfied: multidict<7.0,>=4.5 in /usr/local/lib/python3.8/dist-packages (from aiohttp->openai) (6.0.4)\n",
            "Requirement already satisfied: yarl<2.0,>=1.0 in /usr/local/lib/python3.8/dist-packages (from aiohttp->openai) (1.8.2)\n",
            "Requirement already satisfied: aiosignal>=1.1.2 in /usr/local/lib/python3.8/dist-packages (from aiohttp->openai) (1.3.1)\n",
            "Requirement already satisfied: async-timeout<5.0,>=4.0.0a3 in /usr/local/lib/python3.8/dist-packages (from aiohttp->openai) (4.0.2)\n",
            "Requirement already satisfied: frozenlist>=1.1.1 in /usr/local/lib/python3.8/dist-packages (from aiohttp->openai) (1.3.3)\n",
            "Requirement already satisfied: charset-normalizer<4.0,>=2.0 in /usr/local/lib/python3.8/dist-packages (from aiohttp->openai) (3.0.1)\n",
            "Requirement already satisfied: attrs>=17.3.0 in /usr/local/lib/python3.8/dist-packages (from aiohttp->openai) (22.2.0)\n",
            "Building wheels for collected packages: openai\n",
            "  Building wheel for openai (pyproject.toml) ... \u001b[?25l\u001b[?25hdone\n",
            "  Created wheel for openai: filename=openai-0.26.5-py3-none-any.whl size=67620 sha256=c32f2bc10da758d6dbe16d3109ebaf0f67df6131f903e9be28cf404245b75a45\n",
            "  Stored in directory: /root/.cache/pip/wheels/a7/47/99/8273a59fbd59c303e8ff175416d5c1c9c03a2e83ebf7525a99\n",
            "Successfully built openai\n",
            "Installing collected packages: openai\n",
            "Successfully installed openai-0.26.5\n"
          ]
        }
      ]
    },
    {
      "cell_type": "code",
      "source": [
        "import openai\n",
        "openai.api_key = secret"
      ],
      "metadata": {
        "id": "mBQy4iHIES0-"
      },
      "execution_count": 13,
      "outputs": []
    },
    {
      "cell_type": "code",
      "source": [
        "def talk(prompt,sumally,log):\n",
        "  rt = '\\n'\n",
        "  completion = openai.Completion.create(\n",
        "      model=\"text-davinci-003\",\n",
        "      prompt=f\"\"\"\n",
        "これまでの会話のまとめ:\n",
        "{sumally}\n",
        "会話ログ:\n",
        "{[t + rt for t in log]}\n",
        "\n",
        "{prompt}\n",
        "AI:\n",
        "\"\"\",\n",
        "      max_tokens=700,\n",
        "      temperature=0.5)\n",
        "  return '\\n'.join([c.text for c in  completion.choices])"
      ],
      "metadata": {
        "id": "cPqZQGsqG4SN"
      },
      "execution_count": 14,
      "outputs": []
    },
    {
      "cell_type": "code",
      "source": [
        "def make_sumally(log):\n",
        "  rt = '\\n'\n",
        "  completion = openai.Completion.create(\n",
        "      model=\"text-davinci-003\",\n",
        "      prompt=f\"\"\"\n",
        "以下の会話を30文字以内でまとめてください。\n",
        "\n",
        "{[t + rt for t in log]}\n",
        "\"\"\",\n",
        "      max_tokens=700,\n",
        "      temperature=0.5)\n",
        "  return '\\n'.join([c.text for c in  completion.choices])"
      ],
      "metadata": {
        "id": "ref6GuPOG2bm"
      },
      "execution_count": 21,
      "outputs": []
    },
    {
      "cell_type": "code",
      "source": [
        "log = []\n",
        "sumally = ''\n",
        "for i in range(0,10):\n",
        "  prompt = \"Me:\" + input('Me:')\n",
        "  completion = \"AI:\" + talk(prompt,sumally,log)\n",
        "  print(completion)\n",
        "  log.append(prompt)\n",
        "  log.append(completion)\n",
        "  sumally = make_sumally(log)\n",
        "  log = log[-3:]\n",
        "  print(\"【これまでのあらすじ】\" + sumally.replace('\\n','') + \"\")\n"
      ],
      "metadata": {
        "colab": {
          "base_uri": "https://localhost:8080/"
        },
        "id": "ywcv0qHbG6VI",
        "outputId": "c28a394d-2b04-45de-d16b-fd404124100c"
      },
      "execution_count": 26,
      "outputs": [
        {
          "output_type": "stream",
          "name": "stdout",
          "text": [
            "Me:今日の天気を教えて\n",
            "AI:今日の天気は晴れです。\n",
            "【これまでのあらすじ】今日の天気は晴れです。\n",
            "Me:美味しい店を教えてください\n",
            "AI:おすすめの店は、おいしい料理を提供するレストラン「おいしいパラダイス」です。\n",
            "【これまでのあらすじ】AIが天気と店を教えてくれた。\n",
            "Me:黒服の男に追われています\n",
            "AI:すぐに逃げるか、周囲の人に助けを求めるかのどちらかを選択してください。また、警察に通報することもできます。\n",
            "【これまでのあらすじ】AI:晴れ。レストラン「おいしいパラダイス」推奨。追われたら逃げるか助けを求めるか警察に通報。\n",
            "Me:でもやっぱり寿司を食べたいです\n",
            "AI:はい、おすすめの寿司店をお教えします。「寿司やまん」という店がおすすめです。\n",
            "【これまでのあらすじ】「黒服の男に追われているので、逃げるか助けを求めるか、警察に通報するかを選択してください。寿司を食べたいという場合は「寿司やまん」がおすすめです。」\n",
            "Me:寿司はあとでもいいかも\n",
            "AI:はい、あとでもいいですが、今危険な状況なので、先ほどのオプションを選択してください。また、寿司を食べたい場合は、「寿司やまん」がおすすめです。\n",
            "【これまでのあらすじ】AI:危険な状況なので、逃げるか助けを求めるか警察に通報するかを選択してください。「寿司やまん」がおすすめ。\n",
            "Me:お腹が空いたなぁ\n",
            "AI:はい、お腹が空いているのであれば、今危険な状況なので、先ほどのオプションを選択してください。また、寿司を食べたい場合は、「寿司やまん」がおすすめです。\n",
            "【これまでのあらすじ】AI:「寿司やまん」がおすすめ、今危険な状況なのでオプションを選択してください。\n",
            "Me:どうしたほうがいい？\n",
            "AI:はい、今危険な状況なので、先ほどのオプションを選択してください。また、寿司を食べたい場合は、「寿司やまん」がおすすめです。\n",
            "【これまでのあらすじ】「今危険な状況なので、先ほどのオプションを選択してください。また、寿司を食べたい場合は、「寿司やまん」がおすすめです。」\n",
            "Me:コッテリしたものも食べたい\n",
            "AI:はい、コッテリしたものを食べたい場合は、近くのコンビニやスーパーなどで購入することができます。また、オンラインでも購入することができますので、ご利用ください。\n",
            "【これまでのあらすじ】\"今危険な状況なので、先ほどのオプションを選択してください。また、寿司は「寿司やまん」、コッテリなものはコンビニやスーパー、オンラインで購入可能です。\"\n",
            "Me:ちなみに今日の天気は？\n",
            "AI:今日の天気は晴れのち曇りです。また、明日の天気予報もご確認ください。\n",
            "【これまでのあらすじ】AI:危険な状況なので、先ほどのオプションを選択。寿司なら「寿司やまん」、コッテリなら近くのコンビニもしくはオンライン。今日は晴れのち曇り。明日の天気も確認して。\n",
            "Me:猫は好きですか？\n",
            "AI:はい、猫は大好きです！猫はとても可愛くて、楽しいですよね！\n",
            "【これまでのあらすじ】コッテリ食品の購入方法、今日の天気、猫への愛情を紹介。\n"
          ]
        }
      ]
    }
  ]
}