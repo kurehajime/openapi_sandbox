{
  "nbformat": 4,
  "nbformat_minor": 0,
  "metadata": {
    "colab": {
      "provenance": [],
      "authorship_tag": "ABX9TyP0rgi5ExD+Od3JhhMASwtF",
      "include_colab_link": true
    },
    "kernelspec": {
      "name": "python3",
      "display_name": "Python 3"
    },
    "language_info": {
      "name": "python"
    }
  },
  "cells": [
    {
      "cell_type": "markdown",
      "metadata": {
        "id": "view-in-github",
        "colab_type": "text"
      },
      "source": [
        "<a href=\"https://colab.research.google.com/github/kurehajime/openapi_sandbox/blob/main/%E3%82%8F%E3%81%99%E3%82%8C%E3%82%8B%E3%83%81%E3%83%A3%E3%83%83%E3%83%88AI2.ipynb\" target=\"_parent\"><img src=\"https://colab.research.google.com/assets/colab-badge.svg\" alt=\"Open In Colab\"/></a>"
      ]
    },
    {
      "cell_type": "code",
      "execution_count": null,
      "metadata": {
        "colab": {
          "base_uri": "https://localhost:8080/"
        },
        "id": "Mat0eoglDdZC",
        "outputId": "8e25a0b9-65fa-4676-df2d-6b9746b7b307"
      },
      "outputs": [
        {
          "name": "stdout",
          "output_type": "stream",
          "text": [
            "Enter the secret value: ··········\n"
          ]
        }
      ],
      "source": [
        "from getpass import getpass\n",
        "secret = getpass('Enter the secret value: ')"
      ]
    },
    {
      "cell_type": "code",
      "source": [
        "!pip install openai "
      ],
      "metadata": {
        "colab": {
          "base_uri": "https://localhost:8080/"
        },
        "id": "sSNQisgKDto0",
        "outputId": "4b760e45-9550-4087-b91b-094073256d4b"
      },
      "execution_count": null,
      "outputs": [
        {
          "output_type": "stream",
          "name": "stdout",
          "text": [
            "Looking in indexes: https://pypi.org/simple, https://us-python.pkg.dev/colab-wheels/public/simple/\n",
            "Requirement already satisfied: openai in /usr/local/lib/python3.8/dist-packages (0.26.5)\n",
            "Requirement already satisfied: aiohttp in /usr/local/lib/python3.8/dist-packages (from openai) (3.8.4)\n",
            "Requirement already satisfied: requests>=2.20 in /usr/local/lib/python3.8/dist-packages (from openai) (2.25.1)\n",
            "Requirement already satisfied: tqdm in /usr/local/lib/python3.8/dist-packages (from openai) (4.64.1)\n",
            "Requirement already satisfied: certifi>=2017.4.17 in /usr/local/lib/python3.8/dist-packages (from requests>=2.20->openai) (2022.12.7)\n",
            "Requirement already satisfied: idna<3,>=2.5 in /usr/local/lib/python3.8/dist-packages (from requests>=2.20->openai) (2.10)\n",
            "Requirement already satisfied: chardet<5,>=3.0.2 in /usr/local/lib/python3.8/dist-packages (from requests>=2.20->openai) (4.0.0)\n",
            "Requirement already satisfied: urllib3<1.27,>=1.21.1 in /usr/local/lib/python3.8/dist-packages (from requests>=2.20->openai) (1.26.14)\n",
            "Requirement already satisfied: aiosignal>=1.1.2 in /usr/local/lib/python3.8/dist-packages (from aiohttp->openai) (1.3.1)\n",
            "Requirement already satisfied: attrs>=17.3.0 in /usr/local/lib/python3.8/dist-packages (from aiohttp->openai) (22.2.0)\n",
            "Requirement already satisfied: async-timeout<5.0,>=4.0.0a3 in /usr/local/lib/python3.8/dist-packages (from aiohttp->openai) (4.0.2)\n",
            "Requirement already satisfied: yarl<2.0,>=1.0 in /usr/local/lib/python3.8/dist-packages (from aiohttp->openai) (1.8.2)\n",
            "Requirement already satisfied: multidict<7.0,>=4.5 in /usr/local/lib/python3.8/dist-packages (from aiohttp->openai) (6.0.4)\n",
            "Requirement already satisfied: frozenlist>=1.1.1 in /usr/local/lib/python3.8/dist-packages (from aiohttp->openai) (1.3.3)\n",
            "Requirement already satisfied: charset-normalizer<4.0,>=2.0 in /usr/local/lib/python3.8/dist-packages (from aiohttp->openai) (3.0.1)\n"
          ]
        }
      ]
    },
    {
      "cell_type": "code",
      "source": [
        "import openai\n",
        "openai.api_key = secret"
      ],
      "metadata": {
        "id": "mBQy4iHIES0-"
      },
      "execution_count": null,
      "outputs": []
    },
    {
      "cell_type": "code",
      "source": [
        "def talk(prompt,sumally,log):\n",
        "  rt = '\\n'\n",
        "  completion = openai.Completion.create(\n",
        "      model=\"text-davinci-003\",\n",
        "      prompt=f\"\"\"\n",
        "これまでの会話のまとめ:\n",
        "{sumally}\n",
        "会話ログ:\n",
        "{[t + rt for t in log]}\n",
        "\n",
        "{prompt}\n",
        "AI:\n",
        "\"\"\",\n",
        "      max_tokens=700,\n",
        "      temperature=0.5)\n",
        "  return '\\n'.join([c.text for c in  completion.choices])"
      ],
      "metadata": {
        "id": "cPqZQGsqG4SN"
      },
      "execution_count": 47,
      "outputs": []
    },
    {
      "cell_type": "code",
      "source": [
        "def make_sumally(log):\n",
        "  rt = '\\n'\n",
        "  completion = openai.Completion.create(\n",
        "      model=\"text-davinci-003\",\n",
        "      prompt=f\"\"\"\n",
        "以下の会話を30文字以内でまとめてください。\n",
        "\n",
        "{[t + rt for t in log]}\n",
        "\"\"\",\n",
        "      max_tokens=700,\n",
        "      temperature=0.5)\n",
        "  return '\\n'.join([c.text for c in  completion.choices])"
      ],
      "metadata": {
        "id": "ref6GuPOG2bm"
      },
      "execution_count": 48,
      "outputs": []
    },
    {
      "cell_type": "code",
      "source": [
        "log = []\n",
        "sumally = ''\n",
        "for i in range(0,10):\n",
        "  prompt = \"Me:\" + input('Me:')\n",
        "  completion = \"AI:\" + talk(prompt,sumally,log[-3:])\n",
        "  print(completion)\n",
        "  log.append(prompt)\n",
        "  log.append(completion)\n",
        "  sumally = make_sumally(log)\n",
        "  print(\"【これまでのあらすじ】\" + sumally.replace('\\n','') + \"\")\n"
      ],
      "metadata": {
        "colab": {
          "base_uri": "https://localhost:8080/"
        },
        "id": "ywcv0qHbG6VI",
        "outputId": "1d1bd028-2165-4640-df5e-0f7843e8ef0d"
      },
      "execution_count": 50,
      "outputs": [
        {
          "output_type": "stream",
          "name": "stdout",
          "text": [
            "Me:今日の天気を教えて\n",
            "AI:今日の天気は晴れです。\n",
            "【これまでのあらすじ】\"今日の天気は晴れです。\"\n",
            "Me:美味しい店を教えてください\n",
            "AI:おすすめのお店は、近くにある居酒屋「いなべ」です。おいしい料理と楽しい雰囲気を楽しめますよ。\n",
            "【これまでのあらすじ】今日は晴れ、近くの居酒屋「いなべ」がおすすめ。\n",
            "Me:黒服の男に追われています\n",
            "AI:すぐに安全な場所に逃げましょう。また、近くの警察署に連絡を取って、警察に助けを求めてください。\n",
            "【これまでのあらすじ】\"今日の晴れ、近くの居酒屋「いなべ」を教え、黒服の男に追われたら安全な場所に逃げ警察に助けを求める。\"\n",
            "Me:でもやっぱり寿司を食べたいです\n",
            "AI:はい、そうなのですね。居酒屋「いなべ」では、おいしい寿司を提供していますので、そちらをお試しください。\n",
            "【これまでのあらすじ】天気晴れ、「いなべ」で寿司、追われたら警察署へ。\n",
            "Me:寿司はあとでもいいかも\n",
            "AI:はい、そうですね。今はまず安全な場所に逃げましょう。追われている場合は、近くの警察署に連絡を取り、助けを求めてください。\n",
            "【これまでのあらすじ】今日は晴れ。近くの居酒屋「いなべ」でおいしい料理と楽しい雰囲気を楽しめる。追われている時は警察署に助けを求める。寿司はあとでもいい。\n",
            "Me:お腹が空いたなぁ\n",
            "AI:はい、そうですね。今日は晴れていますので、近くの居酒屋「いなべ」でおいしい料理と楽しい雰囲気を楽しんでください。\n",
            "【これまでのあらすじ】AIが天気やお店、追われている時などにお答えしている。\n",
            "Me:どうしたほうがいい？\n",
            "AI:はい、そうですね。お困りのことについては、まずはあなたの状況を正確に把握してください。その後、その状況に応じて適切な対処を行ってください。\n",
            "【これまでのあらすじ】Me:状況を把握して適切な対処を行う。AI:晴れで居酒屋「いなべ」をおすすめ。\n",
            "Me:コッテリしたものも食べたい\n",
            "AI:はい、そうですね。コッテリしたものも食べたいということですね。今日は晴れていますので、近くの居酒屋「いなべ」でコッテリした料理も楽しんでください。\n",
            "【これまでのあらすじ】天気、居酒屋「いなべ」、警察署、状況把握、適切な対処、コッテリ料理を教えてくれるAI。\n",
            "Me:ちなみに今日の天気は？\n",
            "AI:はい、今日の天気ですね。今日は晴れています。\n",
            "【これまでのあらすじ】今日の天気は晴れ、近くの居酒屋「いなべ」でおいしい料理を楽しめ、追われている時は警察署に助けを求めよう。\n",
            "Me:猫は好きですか？\n",
            "AI:はい、猫は好きです。猫は可愛くて、面白いですよね。\n",
            "【これまでのあらすじ】今日の天気は晴れ、居酒屋「いなべ」でおいしい料理を楽しめ、追われている場合は警察署に助けを求める、コッテリした料理も食べられる、猫は可愛くて面白い。\n"
          ]
        }
      ]
    }
  ]
}