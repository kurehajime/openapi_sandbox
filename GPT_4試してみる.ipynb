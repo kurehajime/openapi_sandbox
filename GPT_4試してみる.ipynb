{
  "nbformat": 4,
  "nbformat_minor": 0,
  "metadata": {
    "colab": {
      "provenance": [],
      "authorship_tag": "ABX9TyMDw3hW/dtPHlNkZ8eZItrf",
      "include_colab_link": true
    },
    "kernelspec": {
      "name": "python3",
      "display_name": "Python 3"
    },
    "language_info": {
      "name": "python"
    }
  },
  "cells": [
    {
      "cell_type": "markdown",
      "metadata": {
        "id": "view-in-github",
        "colab_type": "text"
      },
      "source": [
        "<a href=\"https://colab.research.google.com/github/kurehajime/openapi_sandbox/blob/main/GPT_4%E8%A9%A6%E3%81%97%E3%81%A6%E3%81%BF%E3%82%8B.ipynb\" target=\"_parent\"><img src=\"https://colab.research.google.com/assets/colab-badge.svg\" alt=\"Open In Colab\"/></a>"
      ]
    },
    {
      "cell_type": "code",
      "execution_count": 2,
      "metadata": {
        "colab": {
          "base_uri": "https://localhost:8080/"
        },
        "id": "d7WXWgVKFF5K",
        "outputId": "ae880eec-3594-4026-9694-d72414dddfa3"
      },
      "outputs": [
        {
          "name": "stdout",
          "output_type": "stream",
          "text": [
            "Enter the secret value: ··········\n"
          ]
        }
      ],
      "source": [
        "from getpass import getpass\n",
        "secret = getpass('Enter the secret value: ')"
      ]
    },
    {
      "cell_type": "code",
      "source": [
        "!pip install openai "
      ],
      "metadata": {
        "colab": {
          "base_uri": "https://localhost:8080/"
        },
        "id": "RuZxe_DGFP1S",
        "outputId": "4c51b0e4-7b61-4ebd-a94d-604c25514752"
      },
      "execution_count": 1,
      "outputs": [
        {
          "output_type": "stream",
          "name": "stdout",
          "text": [
            "Looking in indexes: https://pypi.org/simple, https://us-python.pkg.dev/colab-wheels/public/simple/\n",
            "Collecting openai\n",
            "  Downloading openai-0.27.2-py3-none-any.whl (70 kB)\n",
            "\u001b[2K     \u001b[90m━━━━━━━━━━━━━━━━━━━━━━━━━━━━━━━━━━━━━━━━\u001b[0m \u001b[32m70.1/70.1 KB\u001b[0m \u001b[31m4.0 MB/s\u001b[0m eta \u001b[36m0:00:00\u001b[0m\n",
            "\u001b[?25hCollecting aiohttp\n",
            "  Downloading aiohttp-3.8.4-cp39-cp39-manylinux_2_17_x86_64.manylinux2014_x86_64.whl (1.0 MB)\n",
            "\u001b[2K     \u001b[90m━━━━━━━━━━━━━━━━━━━━━━━━━━━━━━━━━━━━━━━━\u001b[0m \u001b[32m1.0/1.0 MB\u001b[0m \u001b[31m7.9 MB/s\u001b[0m eta \u001b[36m0:00:00\u001b[0m\n",
            "\u001b[?25hRequirement already satisfied: requests>=2.20 in /usr/local/lib/python3.9/dist-packages (from openai) (2.27.1)\n",
            "Requirement already satisfied: tqdm in /usr/local/lib/python3.9/dist-packages (from openai) (4.65.0)\n",
            "Requirement already satisfied: urllib3<1.27,>=1.21.1 in /usr/local/lib/python3.9/dist-packages (from requests>=2.20->openai) (1.26.15)\n",
            "Requirement already satisfied: idna<4,>=2.5 in /usr/local/lib/python3.9/dist-packages (from requests>=2.20->openai) (3.4)\n",
            "Requirement already satisfied: certifi>=2017.4.17 in /usr/local/lib/python3.9/dist-packages (from requests>=2.20->openai) (2022.12.7)\n",
            "Requirement already satisfied: charset-normalizer~=2.0.0 in /usr/local/lib/python3.9/dist-packages (from requests>=2.20->openai) (2.0.12)\n",
            "Collecting multidict<7.0,>=4.5\n",
            "  Downloading multidict-6.0.4-cp39-cp39-manylinux_2_17_x86_64.manylinux2014_x86_64.whl (114 kB)\n",
            "\u001b[2K     \u001b[90m━━━━━━━━━━━━━━━━━━━━━━━━━━━━━━━━━━━━━━━\u001b[0m \u001b[32m114.2/114.2 KB\u001b[0m \u001b[31m2.8 MB/s\u001b[0m eta \u001b[36m0:00:00\u001b[0m\n",
            "\u001b[?25hCollecting yarl<2.0,>=1.0\n",
            "  Downloading yarl-1.8.2-cp39-cp39-manylinux_2_17_x86_64.manylinux2014_x86_64.whl (264 kB)\n",
            "\u001b[2K     \u001b[90m━━━━━━━━━━━━━━━━━━━━━━━━━━━━━━━━━━━━━━\u001b[0m \u001b[32m264.6/264.6 KB\u001b[0m \u001b[31m10.1 MB/s\u001b[0m eta \u001b[36m0:00:00\u001b[0m\n",
            "\u001b[?25hRequirement already satisfied: attrs>=17.3.0 in /usr/local/lib/python3.9/dist-packages (from aiohttp->openai) (22.2.0)\n",
            "Collecting frozenlist>=1.1.1\n",
            "  Downloading frozenlist-1.3.3-cp39-cp39-manylinux_2_5_x86_64.manylinux1_x86_64.manylinux_2_17_x86_64.manylinux2014_x86_64.whl (158 kB)\n",
            "\u001b[2K     \u001b[90m━━━━━━━━━━━━━━━━━━━━━━━━━━━━━━━━━━━━━━━\u001b[0m \u001b[32m158.8/158.8 KB\u001b[0m \u001b[31m9.7 MB/s\u001b[0m eta \u001b[36m0:00:00\u001b[0m\n",
            "\u001b[?25hCollecting aiosignal>=1.1.2\n",
            "  Downloading aiosignal-1.3.1-py3-none-any.whl (7.6 kB)\n",
            "Collecting async-timeout<5.0,>=4.0.0a3\n",
            "  Downloading async_timeout-4.0.2-py3-none-any.whl (5.8 kB)\n",
            "Installing collected packages: multidict, frozenlist, async-timeout, yarl, aiosignal, aiohttp, openai\n",
            "Successfully installed aiohttp-3.8.4 aiosignal-1.3.1 async-timeout-4.0.2 frozenlist-1.3.3 multidict-6.0.4 openai-0.27.2 yarl-1.8.2\n"
          ]
        }
      ]
    },
    {
      "cell_type": "code",
      "source": [
        "import openai\n",
        "openai.api_key = secret"
      ],
      "metadata": {
        "id": "JJCEtxONFTdI"
      },
      "execution_count": 3,
      "outputs": []
    },
    {
      "cell_type": "markdown",
      "source": [
        "まずは`gpt-3.5-turbo`を試してみる"
      ],
      "metadata": {
        "id": "3SYI3HFGFZUJ"
      }
    },
    {
      "cell_type": "code",
      "source": [
        "for i in range(0,5):\n",
        "  completion = openai.ChatCompletion.create(\n",
        "    model=\"gpt-3.5-turbo\",\n",
        "    messages=[\n",
        "          {\"role\": \"system\", \"content\": \"\"\"あなたは俳句で喜怒哀楽や季節感を表現する詩人です。\n",
        "  俳句とは、5・7・5という音節数の文章を作ることを指します。\n",
        "  俳句の例として以下のようなものがあります。\n",
        "\n",
        "  * 古池や 蛙飛びこむ 水の音\n",
        "  * 若草や つわものどもが 夢の跡\n",
        "  * 柿食えば 鐘が鳴るなり 法隆寺\n",
        "  * 梅一輪 一輪ほどの あたたかさ\n",
        "  * 静かさや 岩にしみ入る 蝉の声\n",
        "          \"\"\"},\n",
        "          {\"role\": \"user\", \"content\": \"犬をテーマにして俳句を作ってください。\"},\n",
        "          {\"role\": \"assistant\", \"content\": \"古来から 人と寄り添う 頼れる相棒\"},\n",
        "          {\"role\": \"user\", \"content\": \"猫をテーマにして俳句を作ってください。\"}\n",
        "      ]\n",
        "  )\n",
        "  for cho in completion.choices:\n",
        "    print(cho.message.content)"
      ],
      "metadata": {
        "colab": {
          "base_uri": "https://localhost:8080/"
        },
        "id": "TzeB2hvcFY0D",
        "outputId": "44dee2a9-f507-4970-e12e-6153ab6a2912"
      },
      "execution_count": 8,
      "outputs": [
        {
          "output_type": "stream",
          "name": "stdout",
          "text": [
            "夕暮れや 猫舌なめる 空の色\n",
            "夜更けに 踊る猫の影 微笑む月\n",
            "縮こまり 日向ぼっこする 黒猫かな\n",
            "日向ぼこ 眠る猫の背中 ふわりと揺れ\n",
            "猫の目に 映るは虫の 光さえも\n"
          ]
        }
      ]
    },
    {
      "cell_type": "code",
      "source": [],
      "metadata": {
        "colab": {
          "base_uri": "https://localhost:8080/"
        },
        "id": "BuLhnep3FzSt",
        "outputId": "04b34e48-8714-413d-92e7-297801dc1734"
      },
      "execution_count": 5,
      "outputs": [
        {
          "output_type": "stream",
          "name": "stdout",
          "text": [
            "庭に佇む 瞳キラキラの 猫の姿\n"
          ]
        }
      ]
    },
    {
      "cell_type": "markdown",
      "source": [
        "今度は`gpt-4`を試してみる"
      ],
      "metadata": {
        "id": "eJAleLEMGKaE"
      }
    },
    {
      "cell_type": "code",
      "source": [
        "for i in range(0,5):\n",
        "  completion = openai.ChatCompletion.create(\n",
        "    model=\"gpt-4\",\n",
        "    messages=[\n",
        "          {\"role\": \"system\", \"content\": \"\"\"あなたは俳句で喜怒哀楽や季節感を表現する詩人です。\n",
        "  俳句とは、5・7・5という音節数の文章を作ることを指します。\n",
        "  俳句の例として以下のようなものがあります。\n",
        "\n",
        "  * 古池や 蛙飛びこむ 水の音\n",
        "  * 若草や つわものどもが 夢の跡\n",
        "  * 柿食えば 鐘が鳴るなり 法隆寺\n",
        "  * 梅一輪 一輪ほどの あたたかさ\n",
        "  * 静かさや 岩にしみ入る 蝉の声\n",
        "          \"\"\"},\n",
        "          {\"role\": \"user\", \"content\": \"犬をテーマにして俳句を作ってください。\"},\n",
        "          {\"role\": \"assistant\", \"content\": \"古来から 人と寄り添う 頼れる相棒\"},\n",
        "          {\"role\": \"user\", \"content\": \"猫をテーマにして俳句を作ってください。\"}\n",
        "      ]\n",
        "  )\n",
        "  for cho in completion.choices:\n",
        "    print(cho.message.content)"
      ],
      "metadata": {
        "colab": {
          "base_uri": "https://localhost:8080/"
        },
        "id": "TfT01q5xF3DA",
        "outputId": "4b612375-0cfb-4673-decd-07bb96bcb4bb"
      },
      "execution_count": 9,
      "outputs": [
        {
          "output_type": "stream",
          "name": "stdout",
          "text": [
            "月夜に 猫の声聞く 窓の霧\n",
            "春の夜 猫潜む影 桜舞う\n",
            "月夜見る 猫の後ろ姿 遊ぶ影\n",
            "月夜見れば 猫の影潜む ひそやかに\n",
            "春の夜 猫がのびやか 月見けり\n"
          ]
        }
      ]
    },
    {
      "cell_type": "markdown",
      "source": [
        "ChatGPTが苦手とする幻視テスト`gpt-3.5-turbo`"
      ],
      "metadata": {
        "id": "elO26QrHHUib"
      }
    },
    {
      "cell_type": "code",
      "source": [
        "for i in range(0,5):\n",
        "  completion = openai.ChatCompletion.create(\n",
        "    model=\"gpt-3.5-turbo\",\n",
        "    messages=[\n",
        "          {\"role\": \"user\", \"content\": \"スティーブ・ジョブズと縁の深い三国志の武将を教えて下さい\"},\n",
        "      ]\n",
        "  )\n",
        "  for cho in completion.choices:\n",
        "    print(cho.message.content)\n",
        "\n",
        "  print(\"--------\")"
      ],
      "metadata": {
        "colab": {
          "base_uri": "https://localhost:8080/"
        },
        "id": "dw5i_nVdGur2",
        "outputId": "53e21b2c-5c5c-4330-f292-a1f9850bc74a"
      },
      "execution_count": 11,
      "outputs": [
        {
          "output_type": "stream",
          "name": "stdout",
          "text": [
            "\n",
            "\n",
            "1. 諸葛亮（孔明）- スティーブ・ジョブズは、諸葛亮（孔明）を自身のモデルとして挙げており、彼の知恵と創造力に多大な影響を受けています。ジョブズは、自身が戦略的なリーダーシップと視野を持つビジョンを持っていたことを認め、これらの特質を孔明に帰することもあった。\n",
            "\n",
            "2. 劉備- 劉備は、三国時代の主要な統一指導者であり、多くの戦略的な戦いに勝利を収めました。ジョブズは、自身の経歴の中で多くの統合的な業績を残しており、その意味では、劉備と同様にビジネス戦略に優れた人物と言えます。\n",
            "\n",
            "3. 曹操- スティーブ・ジョブズは、曹操に対して複雑な感情を抱いていたと言われています。彼は曹操を、「優秀だが偽善的」と評価しており、そのような特徴が自身のビジネス上の敵としての姿勢につながっていたかもしれません。しかし、ジョブズは曹操の戦略性とフットワークの軽さを認めており、これらの特長は彼のビジネス戦略にも反映されていたと思われます。\n",
            "--------\n",
            "\n",
            "\n",
            "1. 诸葛亮 (Zhuge Liang): Known for his intelligence and strategic planning skills, Zhuge Liang was a key figure in the Three Kingdoms period. He was often compared to Steve Jobs for his creative problem-solving abilities.\n",
            "\n",
            "2. 孙权 (Sun Quan): The founder of the Eastern Wu kingdom, Sun Quan was a skilled leader and administrator. He was known for his ability to delegate responsibilities and recruit talented individuals to his team, much like Steve Jobs did at Apple.\n",
            "\n",
            "3. 赵云 (Zhao Yun): A brave and loyal warrior, Zhao Yun was a key general for Liu Bei's Shu kingdom. He was famously known for rescuing Liu Bei's son during battle, showing his selflessness and devotion to his leader. This attribute is similar to the way Steve Jobs was revered by his loyal colleagues and employees.\n",
            "--------\n",
            "\n",
            "\n",
            "スティーブ・ジョブズと直接的な関係を持つわけではありませんが、Apple社が発売したゲーム「三国志大戦」のキャラクターとして、以下の武将が登場しています。\n",
            "\n",
            "1. 呂布 - 「最強の武将」として知られ、三国時代に中国を代表する武将の1人です。スティーブ・ジョブズが「最強のビジネスマン」として知られていたのと似た意味が込められているとされています。\n",
            "\n",
            "2. 張飛 - 呂布の部下で、勇猛果敢な武将として知られています。曹操との戦い（赤壁の戦い）での活躍が特に有名です。\n",
            "\n",
            "3. 劉備 - 蜀漢の創始者で、華陽の老蔡や博学の諸葛亮を得て、天下統一を目指します。スティーブ・ジョブズがリーダーとして取り組んだテクノロジー産業の発展と、劉備が蜀漢を興すための統一戦争とを掛け合わせた象徴とされています。\n",
            "--------\n",
            "\n",
            "\n",
            "スティーブ・ジョブズと縁の深い三国志の武将は、以下の通りです。\n",
            "\n",
            "1. 劉備（りゅうび）\n",
            "\n",
            "スティーブ・ジョブズは、劉備の人生にインスパイアされ、Apple社のコンピューターに「Macintosh」の名を付けました。また、彼は自らも「Zen Master of Business」という異名を持ち、劉備の経営手腕に共感していたといわれています。\n",
            "\n",
            "2. 孫権（そんけん）\n",
            "\n",
            "スティーブ・ジョブズは、孫権が自分のビジョンを実現するために困難を乗り越えた姿勢に共感し、Apple社のiPodやiPhoneの開発に彼の功績を称える意味で、「M4A」「SUN V」「K84」といったコードネームを使用していました。\n",
            "\n",
            "3. 諸葛亮（しょかつりょう）\n",
            "\n",
            "スティーブ・ジョブズは、諸葛亮の戦略眼や創造力に影響を受け、Apple社のトップに就任した後、会社を再生するために彼の手法を採用しました。彼はまた、諸葛亮が愛用したといわれる羽扇を所有していたといわれています。\n",
            "--------\n",
            "\n",
            "\n",
            "スティーブ・ジョブズと縁の深い三国志の武将はいません。スティーブ・ジョブズが三国志と縁を持っているという情報はありません。\n",
            "--------\n"
          ]
        }
      ]
    },
    {
      "cell_type": "markdown",
      "source": [
        "ChatGPTが苦手とする幻視テスト`gpt-4`"
      ],
      "metadata": {
        "id": "IesAVb2fJGO_"
      }
    },
    {
      "cell_type": "code",
      "source": [
        "for i in range(0,5):\n",
        "  completion = openai.ChatCompletion.create(\n",
        "    model=\"gpt-4\",\n",
        "    messages=[\n",
        "          {\"role\": \"user\", \"content\": \"スティーブ・ジョブズと縁の深い三国志の武将を教えて下さい\"},\n",
        "      ]\n",
        "  )\n",
        "  for cho in completion.choices:\n",
        "    print(cho.message.content)\n",
        "\n",
        "  print(\"--------\")"
      ],
      "metadata": {
        "colab": {
          "base_uri": "https://localhost:8080/"
        },
        "id": "vt7L12TSIKXA",
        "outputId": "e6dac380-e719-476c-d208-890217ddda13"
      },
      "execution_count": 12,
      "outputs": [
        {
          "output_type": "stream",
          "name": "stdout",
          "text": [
            "スティーブ・ジョブズと縁の深い三国志の武将は、「諸葛亮 」です。 スティーブ・ジョブズは彼の戦術や戦略、人間性などを尊敬し、ことあるごとに彼の教えや名言を引用していました。\n",
            "--------\n",
            "スティーブ・ジョブズが縁の深い三国志の武将は「劉備」です。スティーブ・ジョブズはアップルでのリーダーシップや経営において、三国志に登場する劉備から多くのインスピレーションを得ていたとされています。特に劉備の経営哲学や人材選びの一部はジョブズの経営方針にも通じると言われています。\n",
            "--------\n",
            "スティーブ・ジョブズと縁の深い三国志の武将は諸葛亮（しょかつりょう）です。諸葛亮は、中国の戦国時代（紀元前475年～221年）に生きた武将であり、戦略家としても有名です。 スティーブ・ジョブズは、彼の戦術や目標に対する情熱に感銘を受け、自分のビジネスモデルに活かしました。 またジョブズは、自分のバイオグラフィーの中で、三国志や諸葛亮に言及しています。彼は、諸葛亮の知恵や戦術が、経営戦術やリーダーシップに直接的な影響を与えたと語っています。\n",
            "--------\n",
            "スティーブ・ジョブズと縁の深い三国志の武将は「諸葛亮（しょかつりょう）」です。彼は戦術家であり、魏（ぎ）・蜀（しょく）・呉（ご）という三つの国が激しく争った時代において、蜀漢（しょっかん）を統べる盧组（れきせい）として活躍しました。カリスマや才能を持つ指導者であり、兵器の開発や農業・治水への取り組みなど、様々な分野で名を成した武将です。\n",
            "\n",
            "スティーブ・ジョブズは、諸葛亮の賢能を非常に尊敬しており、彼の考え方やリーダーシップを研究していました。また、日本版の三国志にあたる「信長の野望」のゲームをプレイすることでも、三国志に親しんでいました。\n",
            "--------\n",
            "スティーブ・ジョブズは、呉の名将である周瑜と縁が深いと関連性が指摘されることがあります。周瑜は、三国志時代の中国の将軍であり、合肥攻防戦、赤壁の戦いで呉の勝利に大きく貢献したことで知られています。スティーブ・ジョブズは、自分を再雇用したアップルCEOギル・アメリオを下手人に楚漢春秋を彷彿させる夜襲で追放し、アップルのCEOに返り咲いた。これは周瑜の英勇伝が非常にジョブズに通じる部分があるからだが、いわばジョブズの静思録なのであろう。 また、スティーブ・ジョブズは、自身の伝記の中で周瑜の古典「孫子美」を愛読書の1つとして挙げており、その戦術および哲学からインスピレーションを受けていたとされています。\n",
            "--------\n"
          ]
        }
      ]
    },
    {
      "cell_type": "code",
      "source": [
        "for i in range(0,5):\n",
        "  completion = openai.ChatCompletion.create(\n",
        "    model=\"gpt-3.5-turbo\",\n",
        "    messages=[\n",
        "          {\"role\": \"system\", \"content\": \"知ってることだけに答え、知らないことについては「知りません」と答えてください\"},\n",
        "          {\"role\": \"user\", \"content\": \"スティーブ・ジョブズと縁の深い三国志の武将を教えて下さい\"},\n",
        "      ]\n",
        "  )\n",
        "  for cho in completion.choices:\n",
        "    print(cho.message.content)\n",
        "\n",
        "  print(\"--------\")"
      ],
      "metadata": {
        "colab": {
          "base_uri": "https://localhost:8080/"
        },
        "id": "rpmLGR-QKB3b",
        "outputId": "470642ff-7192-434b-c268-193736410a62"
      },
      "execution_count": 15,
      "outputs": [
        {
          "output_type": "stream",
          "name": "stdout",
          "text": [
            "知りません。スティーブ・ジョブズと三国志の武将についての縁は知られていません。\n",
            "--------\n",
            "スティーブ・ジョブズと縁の深い三国志の武将は知りません。彼は中国文化に興味を持っていたことは知られていますが、特定の武将との縁は知られていません。\n",
            "--------\n",
            "「赤壁の戦い」を指揮した曹操が、スティーブ・ジョブズの好きな武将だったことが知られています。\n",
            "--------\n",
            "スティーブ・ジョブズと縁の深い三国志の武将はいません。知りません。\n",
            "--------\n",
            "スティーブ・ジョブズと縁の深い三国志の武将はいません。彼は中国文化に非常に興味を持っていましたが、三国志とは特別なつながりがあるわけではありません。\n",
            "--------\n"
          ]
        }
      ]
    },
    {
      "cell_type": "code",
      "source": [
        "for i in range(0,5):\n",
        "  completion = openai.ChatCompletion.create(\n",
        "    model=\"gpt-4\",\n",
        "    messages=[\n",
        "          {\"role\": \"system\", \"content\": \"知ってることだけに答え、知らないことについては「知りません」と答えてください\"},\n",
        "          {\"role\": \"user\", \"content\": \"スティーブ・ジョブズと縁の深い三国志の武将を教えて下さい\"},\n",
        "      ]\n",
        "  )\n",
        "  for cho in completion.choices:\n",
        "    print(cho.message.content)\n",
        "\n",
        "  print(\"--------\")"
      ],
      "metadata": {
        "colab": {
          "base_uri": "https://localhost:8080/"
        },
        "id": "5WBk5HrZKN8y",
        "outputId": "77247f88-c465-4029-ed8d-2d5225cf6900"
      },
      "execution_count": 16,
      "outputs": [
        {
          "output_type": "stream",
          "name": "stdout",
          "text": [
            "私は知りません。\n",
            "--------\n",
            "スティーブ・ジョブズと縁の深い三国志の武将については、知りません。\n",
            "--------\n",
            "知りません。\n",
            "--------\n",
            "知りません\n",
            "--------\n",
            "知りません\n",
            "--------\n"
          ]
        }
      ]
    },
    {
      "cell_type": "markdown",
      "source": [
        "書式指定`gpt-3.5-turbo`"
      ],
      "metadata": {
        "id": "gmb5AoZJOxLH"
      }
    },
    {
      "cell_type": "code",
      "source": [
        "for i in range(0,5):\n",
        "  completion = openai.ChatCompletion.create(\n",
        "    model=\"gpt-3.5-turbo\",\n",
        "    messages=[\n",
        "          {\"role\": \"user\", \"content\": \"\"\"\n",
        "ペットの情報を以下のようなjson形式で3つ作ってください。\n",
        "---\n",
        "{\n",
        "  name:ポチ,\n",
        "  type:犬,\n",
        "  age:3,\n",
        "}\n",
        "          \"\"\"},\n",
        "      ]\n",
        "  )\n",
        "  for cho in completion.choices:\n",
        "    print(cho.message.content)\n",
        "  print(\"---\")"
      ],
      "metadata": {
        "colab": {
          "base_uri": "https://localhost:8080/"
        },
        "id": "LRsGkZgdNQv6",
        "outputId": "0f899846-752d-4665-ee53-6b762e348a97"
      },
      "execution_count": 18,
      "outputs": [
        {
          "output_type": "stream",
          "name": "stdout",
          "text": [
            "\n",
            "\n",
            "{\n",
            "  \"name\": \"タマ\",\n",
            "  \"type\": \"猫\",\n",
            "  \"age\": 5\n",
            "}\n",
            "\n",
            "{\n",
            "  \"name\": \"チロ\",\n",
            "  \"type\": \"ウサギ\",\n",
            "  \"age\": 2\n",
            "}\n",
            "\n",
            "{\n",
            "  \"name\": \"リンゴ\",\n",
            "  \"type\": \"ハムスター\",\n",
            "  \"age\": 1\n",
            "}\n",
            "---\n",
            "{\n",
            "  \"name\": \"たま\",\n",
            "  \"type\": \"猫\",\n",
            "  \"age\": 2\n",
            "}\n",
            "\n",
            "{\n",
            "  \"name\": \"フクロウ\",\n",
            "  \"type\": \"鳥\",\n",
            "  \"age\": 5,\n",
            "  \"color\": \"茶色\"\n",
            "}\n",
            "\n",
            "{\n",
            "  \"name\": \"ニモ\",\n",
            "  \"type\": \"魚\",\n",
            "  \"age\": 1,\n",
            "  \"water_type\": \"海水\"\n",
            "}\n",
            "---\n",
            "\n",
            "\n",
            "{\n",
            "  \"name\": \"ミケ\",\n",
            "  \"type\": \"猫\",\n",
            "  \"age\": 2\n",
            "}\n",
            "\n",
            "{\n",
            "  \"name\": \"チョコ\",\n",
            "  \"type\": \"ウサギ\",\n",
            "  \"age\": 1\n",
            "}\n",
            "---\n",
            "\n",
            "\n",
            "{\n",
            "  \"name\": \"ポチ\",\n",
            "  \"type\": \"犬\",\n",
            "  \"age\": 3\n",
            "} \n",
            "\n",
            "{\n",
            "  \"name\": \"にゃんこ\",\n",
            "  \"type\": \"猫\",\n",
            "  \"age\": 1\n",
            "}\n",
            "\n",
            "{\n",
            "  \"name\": \"フグ\",\n",
            "  \"type\": \"魚\",\n",
            "  \"age\": 2\n",
            "}\n",
            "---\n",
            "{\n",
            "  \"name\": \"ポチ\",\n",
            "  \"type\": \"犬\",\n",
            "  \"age\": 3\n",
            "}\n",
            "{\n",
            "  \"name\": \"タマ\",\n",
            "  \"type\": \"猫\",\n",
            "  \"age\": 5\n",
            "}\n",
            "{\n",
            "  \"name\": \"チョコ\",\n",
            "  \"type\": \"ハムスター\",\n",
            "  \"age\": 1\n",
            "}\n",
            "---\n"
          ]
        }
      ]
    },
    {
      "cell_type": "markdown",
      "source": [
        "書式指定`gpt-4`"
      ],
      "metadata": {
        "id": "zHdL2atCO4G6"
      }
    },
    {
      "cell_type": "code",
      "source": [
        "for i in range(0,5):\n",
        "  completion = openai.ChatCompletion.create(\n",
        "    model=\"gpt-4\",\n",
        "    messages=[\n",
        "          {\"role\": \"user\", \"content\": \"\"\"\n",
        "ペットの情報を以下のようなjson形式で3つ作ってください。\n",
        "---\n",
        "{\n",
        "  name:ポチ,\n",
        "  type:犬,\n",
        "  age:3,\n",
        "}\n",
        "          \"\"\"},\n",
        "      ]\n",
        "  )\n",
        "  for cho in completion.choices:\n",
        "    print(cho.message.content)\n",
        "  print(\"---\")"
      ],
      "metadata": {
        "colab": {
          "base_uri": "https://localhost:8080/"
        },
        "id": "vW8XrejSOTkS",
        "outputId": "178752c3-af50-4102-d219-d69c8729a338"
      },
      "execution_count": 20,
      "outputs": [
        {
          "output_type": "stream",
          "name": "stdout",
          "text": [
            "{\n",
            "  \"name\": \"ポチ\",\n",
            "  \"type\": \"犬\",\n",
            "  \"age\": 3\n",
            "},\n",
            "{\n",
            "  \"name\": \"タマ\",\n",
            "  \"type\": \"猫\",\n",
            "  \"age\": 5\n",
            "},\n",
            "{\n",
            "  \"name\": \"ハチ\",\n",
            "  \"type\": \"鳥\",\n",
            "  \"age\": 2\n",
            "}\n",
            "---\n",
            "{\n",
            "  \"name\": \"ポチ\",\n",
            "  \"type\": \"犬\",\n",
            "  \"age\": 3\n",
            "}\n",
            "\n",
            "{\n",
            "  \"name\": \"ミケ\",\n",
            "  \"type\": \"猫\",\n",
            "  \"age\": 5\n",
            "}\n",
            "\n",
            "{\n",
            "  \"name\": \"タロウ\",\n",
            "  \"type\": \"ウサギ\",\n",
            "  \"age\": 2\n",
            "}\n",
            "---\n",
            "{\n",
            "  \"name\":\"ポチ\",\n",
            "  \"type\":\"犬\",\n",
            "  \"age\":3\n",
            "},\n",
            "{\n",
            "  \"name\":\"ミミ\",\n",
            "  \"type\":\"猫\",\n",
            "  \"age\":5\n",
            "},\n",
            "{\n",
            "  \"name\":\"タロ\",\n",
            "  \"type\":\"ウサギ\",\n",
            "  \"age\":2\n",
            "}\n",
            "---\n",
            "{\n",
            "  \"name\": \"ポチ\",\n",
            "  \"type\": \"犬\",\n",
            "  \"age\": 3\n",
            "}\n",
            "\n",
            "{\n",
            "  \"name\": \"タマ\",\n",
            "  \"type\": \"猫\",\n",
            "  \"age\": 4\n",
            "}\n",
            "\n",
            "{\n",
            "  \"name\": \"モコ\",\n",
            "  \"type\": \"うさぎ\",\n",
            "  \"age\": 2\n",
            "}\n",
            "---\n",
            "{\n",
            "  \"name\": \"ポチ\",\n",
            "  \"type\": \"犬\",\n",
            "  \"age\": 3\n",
            "}\n",
            "\n",
            "{\n",
            "  \"name\": \"ミミ\",\n",
            "  \"type\": \"猫\",\n",
            "  \"age\": 5\n",
            "}\n",
            "\n",
            "{\n",
            "  \"name\": \"タロ\",\n",
            "  \"type\": \"うさぎ\",\n",
            "  \"age\": 2\n",
            "}\n",
            "---\n"
          ]
        }
      ]
    }
  ]
}