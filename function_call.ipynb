{
  "nbformat": 4,
  "nbformat_minor": 0,
  "metadata": {
    "colab": {
      "provenance": [],
      "authorship_tag": "ABX9TyMJNVL7XqpHH62dctgUPj/G",
      "include_colab_link": true
    },
    "kernelspec": {
      "name": "python3",
      "display_name": "Python 3"
    },
    "language_info": {
      "name": "python"
    }
  },
  "cells": [
    {
      "cell_type": "markdown",
      "metadata": {
        "id": "view-in-github",
        "colab_type": "text"
      },
      "source": [
        "<a href=\"https://colab.research.google.com/github/kurehajime/openapi_sandbox/blob/main/function_call.ipynb\" target=\"_parent\"><img src=\"https://colab.research.google.com/assets/colab-badge.svg\" alt=\"Open In Colab\"/></a>"
      ]
    },
    {
      "cell_type": "code",
      "execution_count": 1,
      "metadata": {
        "colab": {
          "base_uri": "https://localhost:8080/"
        },
        "id": "JTJKUwC8W2jI",
        "outputId": "e6c8349a-6c1f-4326-e1d5-05a300c9b051"
      },
      "outputs": [
        {
          "name": "stdout",
          "output_type": "stream",
          "text": [
            "Enter the secret value: ··········\n"
          ]
        }
      ],
      "source": [
        "from getpass import getpass\n",
        "secret = getpass('Enter the secret value: ')"
      ]
    },
    {
      "cell_type": "code",
      "source": [
        "!pip install openai"
      ],
      "metadata": {
        "colab": {
          "base_uri": "https://localhost:8080/"
        },
        "id": "Ea8yOyBWXRop",
        "outputId": "03879327-384c-4e73-a82f-8ef8e20ca23b"
      },
      "execution_count": 2,
      "outputs": [
        {
          "output_type": "stream",
          "name": "stdout",
          "text": [
            "Looking in indexes: https://pypi.org/simple, https://us-python.pkg.dev/colab-wheels/public/simple/\n",
            "Collecting openai\n",
            "  Downloading openai-0.27.8-py3-none-any.whl (73 kB)\n",
            "\u001b[2K     \u001b[90m━━━━━━━━━━━━━━━━━━━━━━━━━━━━━━━━━━━━━━━━\u001b[0m \u001b[32m73.6/73.6 kB\u001b[0m \u001b[31m2.3 MB/s\u001b[0m eta \u001b[36m0:00:00\u001b[0m\n",
            "\u001b[?25hRequirement already satisfied: requests>=2.20 in /usr/local/lib/python3.10/dist-packages (from openai) (2.27.1)\n",
            "Requirement already satisfied: tqdm in /usr/local/lib/python3.10/dist-packages (from openai) (4.65.0)\n",
            "Collecting aiohttp (from openai)\n",
            "  Downloading aiohttp-3.8.4-cp310-cp310-manylinux_2_17_x86_64.manylinux2014_x86_64.whl (1.0 MB)\n",
            "\u001b[2K     \u001b[90m━━━━━━━━━━━━━━━━━━━━━━━━━━━━━━━━━━━━━━━━\u001b[0m \u001b[32m1.0/1.0 MB\u001b[0m \u001b[31m36.4 MB/s\u001b[0m eta \u001b[36m0:00:00\u001b[0m\n",
            "\u001b[?25hRequirement already satisfied: urllib3<1.27,>=1.21.1 in /usr/local/lib/python3.10/dist-packages (from requests>=2.20->openai) (1.26.15)\n",
            "Requirement already satisfied: certifi>=2017.4.17 in /usr/local/lib/python3.10/dist-packages (from requests>=2.20->openai) (2022.12.7)\n",
            "Requirement already satisfied: charset-normalizer~=2.0.0 in /usr/local/lib/python3.10/dist-packages (from requests>=2.20->openai) (2.0.12)\n",
            "Requirement already satisfied: idna<4,>=2.5 in /usr/local/lib/python3.10/dist-packages (from requests>=2.20->openai) (3.4)\n",
            "Requirement already satisfied: attrs>=17.3.0 in /usr/local/lib/python3.10/dist-packages (from aiohttp->openai) (23.1.0)\n",
            "Collecting multidict<7.0,>=4.5 (from aiohttp->openai)\n",
            "  Downloading multidict-6.0.4-cp310-cp310-manylinux_2_17_x86_64.manylinux2014_x86_64.whl (114 kB)\n",
            "\u001b[2K     \u001b[90m━━━━━━━━━━━━━━━━━━━━━━━━━━━━━━━━━━━━━━\u001b[0m \u001b[32m114.5/114.5 kB\u001b[0m \u001b[31m12.9 MB/s\u001b[0m eta \u001b[36m0:00:00\u001b[0m\n",
            "\u001b[?25hCollecting async-timeout<5.0,>=4.0.0a3 (from aiohttp->openai)\n",
            "  Downloading async_timeout-4.0.2-py3-none-any.whl (5.8 kB)\n",
            "Collecting yarl<2.0,>=1.0 (from aiohttp->openai)\n",
            "  Downloading yarl-1.9.2-cp310-cp310-manylinux_2_17_x86_64.manylinux2014_x86_64.whl (268 kB)\n",
            "\u001b[2K     \u001b[90m━━━━━━━━━━━━━━━━━━━━━━━━━━━━━━━━━━━━━━\u001b[0m \u001b[32m268.8/268.8 kB\u001b[0m \u001b[31m25.6 MB/s\u001b[0m eta \u001b[36m0:00:00\u001b[0m\n",
            "\u001b[?25hCollecting frozenlist>=1.1.1 (from aiohttp->openai)\n",
            "  Downloading frozenlist-1.3.3-cp310-cp310-manylinux_2_5_x86_64.manylinux1_x86_64.manylinux_2_17_x86_64.manylinux2014_x86_64.whl (149 kB)\n",
            "\u001b[2K     \u001b[90m━━━━━━━━━━━━━━━━━━━━━━━━━━━━━━━━━━━━━━\u001b[0m \u001b[32m149.6/149.6 kB\u001b[0m \u001b[31m18.0 MB/s\u001b[0m eta \u001b[36m0:00:00\u001b[0m\n",
            "\u001b[?25hCollecting aiosignal>=1.1.2 (from aiohttp->openai)\n",
            "  Downloading aiosignal-1.3.1-py3-none-any.whl (7.6 kB)\n",
            "Installing collected packages: multidict, frozenlist, async-timeout, yarl, aiosignal, aiohttp, openai\n",
            "Successfully installed aiohttp-3.8.4 aiosignal-1.3.1 async-timeout-4.0.2 frozenlist-1.3.3 multidict-6.0.4 openai-0.27.8 yarl-1.9.2\n"
          ]
        }
      ]
    },
    {
      "cell_type": "code",
      "source": [
        "import openai\n",
        "openai.api_key = secret"
      ],
      "metadata": {
        "id": "CHetVSI9XS0l"
      },
      "execution_count": 3,
      "outputs": []
    },
    {
      "cell_type": "code",
      "source": [
        "def completion(prompt):\n",
        "  response =  openai.ChatCompletion.create(\n",
        "    model=\"gpt-3.5-turbo-0613\",\n",
        "    messages=[{\"role\": \"user\", \"content\": prompt}],\n",
        "    functions=[\n",
        "        {\n",
        "            \"name\": \"birthday_horoscope\",\n",
        "            \"description\": \"誕生日で今日の運勢を占えるよ\",\n",
        "            \"parameters\": {\n",
        "                \"type\": \"object\",\n",
        "                \"properties\": {\n",
        "                    \"year\": {\n",
        "                        \"type\": \"integer\",\n",
        "                        \"description\": \"年\",\n",
        "                    },\n",
        "                    \"month\": {\n",
        "                        \"type\": \"integer\",\n",
        "                        \"description\": \"月(1はじまり)\",\n",
        "                    },\n",
        "                    \"day\": {\n",
        "                        \"type\": \"integer\",\n",
        "                        \"description\": \"日\",\n",
        "                    },\n",
        "                },\n",
        "                \"required\": [\"year\",\"month\",\"day\"],\n",
        "            },\n",
        "        }\n",
        "    ],\n",
        "    function_call=\"auto\",\n",
        "  )\n",
        "  return response[\"choices\"][0][\"message\"]"
      ],
      "metadata": {
        "id": "EO1MMS85XUpF"
      },
      "execution_count": 39,
      "outputs": []
    },
    {
      "cell_type": "code",
      "source": [
        "print(completion(\"サンフランシスコ講和条約を結んだ日本の総理大臣の運勢を教えて\"))"
      ],
      "metadata": {
        "colab": {
          "base_uri": "https://localhost:8080/"
        },
        "id": "qQNL2PZHrm49",
        "outputId": "aa11556d-ce3c-4665-dd17-06cd058ef038"
      },
      "execution_count": 43,
      "outputs": [
        {
          "output_type": "stream",
          "name": "stdout",
          "text": [
            "{\n",
            "  \"role\": \"assistant\",\n",
            "  \"content\": null,\n",
            "  \"function_call\": {\n",
            "    \"name\": \"birthday_horoscope\",\n",
            "    \"arguments\": \"{\\n  \\\"year\\\": 1951,\\n  \\\"month\\\": 9,\\n  \\\"day\\\": 8\\n}\"\n",
            "  }\n",
            "}\n"
          ]
        }
      ]
    },
    {
      "cell_type": "code",
      "source": [
        "print(completion(\"Nintendo64がPlayStationに負けた理由を英語で教えて\"))"
      ],
      "metadata": {
        "colab": {
          "base_uri": "https://localhost:8080/"
        },
        "id": "Wttwk9NotQLp",
        "outputId": "f11bdf9e-e19e-4dc7-ee04-e940edb87aa2"
      },
      "execution_count": 42,
      "outputs": [
        {
          "output_type": "stream",
          "name": "stdout",
          "text": [
            "{\n",
            "  \"role\": \"assistant\",\n",
            "  \"content\": \"There were several reasons why the Nintendo 64 lost to the PlayStation:\\n\\n1. CD-ROM Format: The PlayStation used CDs as its storage medium, while the N64 used cartridges. CDs had larger storage capacity and were cheaper to produce, allowing for more complex and longer games on the PlayStation.\\n\\n2. Third-Party Support: Many game developers chose to support the PlayStation platform due to its CD format and larger market share. This led to a wider library of games available on the PlayStation, while the N64 had a more limited selection.\\n\\n3. Cost: The N64 was more expensive to produce than the PlayStation. The higher price point made it less accessible to a wider audience, especially when compared to the more affordable PlayStation.\\n\\n4. Marketing: Sony's aggressive marketing strategy helped establish the PlayStation brand as a household name. They targeted a broader demographic, including older gamers and non-traditional gaming audiences, which helped to expand the PlayStation's market share.\\n\\n5. Game Titles: The PlayStation had several highly acclaimed and popular game titles, such as \\\"Final Fantasy VII\\\" and \\\"Metal Gear Solid,\\\" which attracted a large number of players. While the N64 had its own iconic titles like \\\"Super Mario 64\\\" and \\\"The Legend of Zelda: Ocarina of Time,\\\" it couldn't match the breadth and diversity of the PlayStation's game library.\\n\\nOverall, the combination of factors such as the CD-ROM format, third-party support, cost, marketing, and game titles contributed to the Nintendo 64's loss to the PlayStation.\"\n",
            "}\n"
          ]
        }
      ]
    },
    {
      "cell_type": "code",
      "source": [
        "import json\n",
        "def uranai(message):\n",
        "  if message[\"function_call\"][\"name\"] == \"birthday_horoscope\":\n",
        "    arguments = json.loads(message[\"function_call\"][\"arguments\"])\n",
        "    year = arguments[\"year\"]\n",
        "    month = arguments[\"month\"]\n",
        "    day = arguments[\"day\"]\n",
        "    num = (year + month + day) % 3\n",
        "    if num == 0 :\n",
        "      return \"大吉\"\n",
        "    if num == 1:\n",
        "      return \"吉\"\n",
        "    if num == 2:\n",
        "      return \"凶\""
      ],
      "metadata": {
        "id": "iS0BvDXbwJZE"
      },
      "execution_count": 67,
      "outputs": []
    },
    {
      "cell_type": "code",
      "source": [
        "message = completion(\"サンフランシスコ講和条約を結んだ日本の総理大臣の運勢を教えて\")\n",
        "if message.get(\"function_call\"):\n",
        "  print(uranai(message))\n",
        "if message.get(\"function_call\"):\n",
        "  print(message[\"content\"])"
      ],
      "metadata": {
        "colab": {
          "base_uri": "https://localhost:8080/"
        },
        "id": "6-b-QP3iw3Ny",
        "outputId": "9d78001e-dab9-44a6-89ca-e115e59a8345"
      },
      "execution_count": 70,
      "outputs": [
        {
          "output_type": "stream",
          "name": "stdout",
          "text": [
            "大吉\n",
            "None\n"
          ]
        }
      ]
    },
    {
      "cell_type": "code",
      "source": [
        "def completion2(prompt):\n",
        "  message = completion(prompt)\n",
        "  if message.get(\"function_call\"):\n",
        "    kekka = uranai(message)\n",
        "    response =  openai.ChatCompletion.create(\n",
        "      model=\"gpt-3.5-turbo-0613\",\n",
        "      messages=[\n",
        "          {\"role\": \"user\", \"content\": prompt},\n",
        "          message,\n",
        "          {\"role\": \"function\", \"name\":\"birthday_horoscope\", \"content\": kekka},\n",
        "          ],\n",
        "    )\n",
        "    return response[\"choices\"][0][\"message\"][\"content\"]"
      ],
      "metadata": {
        "id": "3Yz_i9xv49ER"
      },
      "execution_count": 71,
      "outputs": []
    },
    {
      "cell_type": "code",
      "source": [
        "print(completion2(\"サンフランシスコ講和条約を結んだ日本の総理大臣の運勢をハイテンションで教えて❤❤❤\"))"
      ],
      "metadata": {
        "colab": {
          "base_uri": "https://localhost:8080/"
        },
        "id": "dx40Xmsb54iK",
        "outputId": "2708dc40-622a-41e4-b9a1-9be0f7d22b59"
      },
      "execution_count": 74,
      "outputs": [
        {
          "output_type": "stream",
          "name": "stdout",
          "text": [
            "サンフランシスコ講和条約を結んだ日本の総理大臣は、運勢が大吉となります！ハイテンションで、素晴らしい未来が待っています❤❤❤成功への道が開け、幸運な出来事や好機が訪れるでしょう。周囲の人々からも信頼と尊敬を集め、絶大な支持を得ることができます。また、リーダーシップと決断力を発揮することで、大きな成果を上げることができますよ。自信を持って前に進み、困難を乗り越えることができるでしょう。さらに、幸福な家庭生活や健康な身体も享受できるはずです。この期間は、大きな目標を追い求め、夢を実現するチャンスとなりますので、積極的に行動してください！\n"
          ]
        }
      ]
    }
  ]
}